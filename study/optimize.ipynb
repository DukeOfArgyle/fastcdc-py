{
 "cells": [
  {
   "cell_type": "markdown",
   "metadata": {},
   "source": [
    "# FastCDC - Python Optimization Study"
   ]
  },
  {
   "cell_type": "markdown",
   "metadata": {},
   "source": [
    "## Imports"
   ]
  },
  {
   "cell_type": "code",
   "execution_count": 15,
   "metadata": {},
   "outputs": [
    {
     "name": "stdout",
     "output_type": "stream",
     "text": [
      "The cython extension is already loaded. To reload it, use:\n",
      "  %reload_ext cython\n"
     ]
    }
   ],
   "source": [
    "import ctypes\n",
    "import os\n",
    "from codetiming import Timer\n",
    "import humanize\n",
    "import cython\n",
    "import random\n",
    "from array import array\n",
    "from concurrent.futures import ThreadPoolExecutor\n",
    "%load_ext cython"
   ]
  },
  {
   "cell_type": "markdown",
   "metadata": {},
   "source": [
    "## System Block Size"
   ]
  },
  {
   "cell_type": "code",
   "execution_count": 16,
   "metadata": {},
   "outputs": [
    {
     "data": {
      "text/plain": [
       "(8, 512)"
      ]
     },
     "execution_count": 16,
     "metadata": {},
     "output_type": "execute_result"
    }
   ],
   "source": [
    "def get_block_size_win():\n",
    "    \"\"\"Check storage cluster/sector sizes\"\"\"\n",
    "    sectorsPerCluster = ctypes.c_ulonglong(0)\n",
    "    bytesPerSector = ctypes.c_ulonglong(0)\n",
    "    rootPathName = ctypes.c_wchar_p(u\"C:\\\\\")\n",
    "\n",
    "    ctypes.windll.kernel32.GetDiskFreeSpaceW(rootPathName,\n",
    "        ctypes.pointer(sectorsPerCluster),\n",
    "        ctypes.pointer(bytesPerSector),\n",
    "        None,\n",
    "        None,\n",
    "    )\n",
    "    return sectorsPerCluster.value, bytesPerSector.value\n",
    "get_block_size_win()"
   ]
  },
  {
   "cell_type": "markdown",
   "metadata": {},
   "source": [
    "## Create Dummy File"
   ]
  },
  {
   "cell_type": "code",
   "execution_count": 17,
   "metadata": {},
   "outputs": [
    {
     "name": "stdout",
     "output_type": "stream",
     "text": [
      "Generate 1.0 GB dummy.bin\n"
     ]
    }
   ],
   "source": [
    "DUMMY=\"dummy.bin\"\n",
    "\n",
    "def create_dummy_file(size=int(1e+9)):\n",
    "    \"\"\"Create a Random Data File\"\"\"\n",
    "    print(f'Generate {humanize.naturalsize(size)} {DUMMY}')\n",
    "    with open(DUMMY, \"wb\") as outf:\n",
    "        outf.write(os.urandom(size))\n",
    "\n",
    "create_dummy_file()"
   ]
  },
  {
   "cell_type": "markdown",
   "metadata": {},
   "source": [
    "# File Read"
   ]
  },
  {
   "cell_type": "markdown",
   "metadata": {},
   "source": [
    "## Benchmark Read Function"
   ]
  },
  {
   "cell_type": "code",
   "execution_count": 18,
   "metadata": {},
   "outputs": [],
   "source": [
    "def benchmark_read(func, chunk_size):\n",
    "    func_name = func.__name__\n",
    "    num_bytes = os.path.getsize(DUMMY)\n",
    "    file_size = humanize.naturalsize(num_bytes)\n",
    "    t = Timer(logger=None)\n",
    "    t.start()\n",
    "    result = func(chunk_size)\n",
    "    t.stop()\n",
    "    print(f\"{file_size} with {humanize.naturalsize(chunk_size)} chunk size with {func_name} : {humanize.naturalsize(num_bytes / t.last)}/s (result = {result})\")"
   ]
  },
  {
   "cell_type": "markdown",
   "metadata": {},
   "source": [
    "## Fixed Size Chunked Reader"
   ]
  },
  {
   "cell_type": "code",
   "execution_count": 19,
   "metadata": {},
   "outputs": [],
   "source": [
    "def read_chunked(chunk_size=1024*32):\n",
    "    with open(DUMMY, 'rb') as f:\n",
    "        data = f.read(chunk_size)\n",
    "        x = None\n",
    "        while data:\n",
    "            x = data\n",
    "            data = f.read(chunk_size)\n",
    "    return x[-1]"
   ]
  },
  {
   "cell_type": "code",
   "execution_count": 20,
   "metadata": {},
   "outputs": [
    {
     "name": "stdout",
     "output_type": "stream",
     "text": [
      "1.0 GB with 1.0 kB chunk size with read_chunked : 1.4 GB/s (result = 36)\n",
      "1.0 GB with 8.2 kB chunk size with read_chunked : 1.8 GB/s (result = 36)\n",
      "1.0 GB with 16.4 kB chunk size with read_chunked : 2.7 GB/s (result = 36)\n",
      "1.0 GB with 32.8 kB chunk size with read_chunked : 4.0 GB/s (result = 36)\n",
      "1.0 GB with 65.5 kB chunk size with read_chunked : 5.2 GB/s (result = 36)\n",
      "1.0 GB with 131.1 kB chunk size with read_chunked : 5.9 GB/s (result = 36)\n",
      "1.0 GB with 262.1 kB chunk size with read_chunked : 6.4 GB/s (result = 36)\n",
      "1.0 GB with 524.3 kB chunk size with read_chunked : 6.7 GB/s (result = 36)\n",
      "1.0 GB with 1.0 MB chunk size with read_chunked : 2.4 GB/s (result = 36)\n"
     ]
    }
   ],
   "source": [
    "benchmark_read(read_chunked, chunk_size=1024)\n",
    "benchmark_read(read_chunked, chunk_size=1024*8)\n",
    "benchmark_read(read_chunked, chunk_size=1024*16)\n",
    "benchmark_read(read_chunked, chunk_size=1024*32)\n",
    "benchmark_read(read_chunked, chunk_size=1024*64)\n",
    "benchmark_read(read_chunked, chunk_size=1024*128)\n",
    "benchmark_read(read_chunked, chunk_size=1024*256)\n",
    "benchmark_read(read_chunked, chunk_size=1024*512)\n",
    "benchmark_read(read_chunked, chunk_size=1024*1024)"
   ]
  },
  {
   "cell_type": "markdown",
   "metadata": {},
   "source": [
    "# Chunking Operations "
   ]
  },
  {
   "cell_type": "markdown",
   "metadata": {},
   "source": [
    "## Simple Chunking Operations"
   ]
  },
  {
   "cell_type": "code",
   "execution_count": 21,
   "metadata": {},
   "outputs": [],
   "source": [
    "GEAR = [\n",
    "  1553318008, 574654857,  759734804,  310648967,  1393527547, 1195718329,\n",
    "  694400241,  1154184075, 1319583805, 1298164590, 122602963,  989043992,\n",
    "  1918895050, 933636724,  1369634190, 1963341198, 1565176104, 1296753019,\n",
    "  1105746212, 1191982839, 1195494369, 29065008,   1635524067, 722221599,\n",
    "  1355059059, 564669751,  1620421856, 1100048288, 1018120624, 1087284781,\n",
    "  1723604070, 1415454125, 737834957,  1854265892, 1605418437, 1697446953,\n",
    "  973791659,  674750707,  1669838606, 320299026,  1130545851, 1725494449,\n",
    "  939321396,  748475270,  554975894,  1651665064, 1695413559, 671470969,\n",
    "  992078781,  1935142196, 1062778243, 1901125066, 1935811166, 1644847216,\n",
    "  744420649,  2068980838, 1988851904, 1263854878, 1979320293, 111370182,\n",
    "  817303588,  478553825,  694867320,  685227566,  345022554,  2095989693,\n",
    "  1770739427, 165413158,  1322704750, 46251975,   710520147,  700507188,\n",
    "  2104251000, 1350123687, 1593227923, 1756802846, 1179873910, 1629210470,\n",
    "  358373501,  807118919,  751426983,  172199468,  174707988,  1951167187,\n",
    "  1328704411, 2129871494, 1242495143, 1793093310, 1721521010, 306195915,\n",
    "  1609230749, 1992815783, 1790818204, 234528824,  551692332,  1930351755,\n",
    "  110996527,  378457918,  638641695,  743517326,  368806918,  1583529078,\n",
    "  1767199029, 182158924,  1114175764, 882553770,  552467890,  1366456705,\n",
    "  934589400,  1574008098, 1798094820, 1548210079, 821697741,  601807702,\n",
    "  332526858,  1693310695, 136360183,  1189114632, 506273277,  397438002,\n",
    "  620771032,  676183860,  1747529440, 909035644,  142389739,  1991534368,\n",
    "  272707803,  1905681287, 1210958911, 596176677,  1380009185, 1153270606,\n",
    "  1150188963, 1067903737, 1020928348, 978324723,  962376754,  1368724127,\n",
    "  1133797255, 1367747748, 1458212849, 537933020,  1295159285, 2104731913,\n",
    "  1647629177, 1691336604, 922114202,  170715530,  1608833393, 62657989,\n",
    "  1140989235, 381784875,  928003604,  449509021,  1057208185, 1239816707,\n",
    "  525522922,  476962140,  102897870,  132620570,  419788154,  2095057491,\n",
    "  1240747817, 1271689397, 973007445,  1380110056, 1021668229, 12064370,\n",
    "  1186917580, 1017163094, 597085928,  2018803520, 1795688603, 1722115921,\n",
    "  2015264326, 506263638,  1002517905, 1229603330, 1376031959, 763839898,\n",
    "  1970623926, 1109937345, 524780807,  1976131071, 905940439,  1313298413,\n",
    "  772929676,  1578848328, 1108240025, 577439381,  1293318580, 1512203375,\n",
    "  371003697,  308046041,  320070446,  1252546340, 568098497,  1341794814,\n",
    "  1922466690, 480833267,  1060838440, 969079660,  1836468543, 2049091118,\n",
    "  2023431210, 383830867,  2112679659, 231203270,  1551220541, 1377927987,\n",
    "  275637462,  2110145570, 1700335604, 738389040,  1688841319, 1506456297,\n",
    "  1243730675, 258043479,  599084776,  41093802,   792486733,  1897397356,\n",
    "  28077829,   1520357900, 361516586,  1119263216, 209458355,  45979201,\n",
    "  363681532,  477245280,  2107748241, 601938891,  244572459,  1689418013,\n",
    "  1141711990, 1485744349, 1181066840, 1950794776, 410494836,  1445347454,\n",
    "  2137242950, 852679640,  1014566730, 1999335993, 1871390758, 1736439305,\n",
    "  231222289,  603972436,  783045542,  370384393,  184356284,  709706295,\n",
    "  1453549767, 591603172,  768512391,  854125182\n",
    "]"
   ]
  },
  {
   "cell_type": "code",
   "execution_count": 22,
   "metadata": {},
   "outputs": [],
   "source": [
    "def chunker_simple(data):\n",
    "    pattern = 0\n",
    "    mask = 32767\n",
    "    c = 0\n",
    "    for b in data:\n",
    "        pattern = (pattern >> 1) + GEAR[b]\n",
    "        if not pattern & mask:\n",
    "            c+=1\n",
    "    return c"
   ]
  },
  {
   "cell_type": "markdown",
   "metadata": {},
   "source": [
    "## Cython Chunking Operations"
   ]
  },
  {
   "cell_type": "code",
   "execution_count": 23,
   "metadata": {},
   "outputs": [],
   "source": [
    "%%cython\n",
    "cimport cython\n",
    "from libc.stdint cimport uint32_t, uint8_t\n",
    "\n",
    "cdef uint32_t[256] GEAR_C = [\n",
    "  1553318008, 574654857,  759734804,  310648967,  1393527547, 1195718329,\n",
    "  694400241,  1154184075, 1319583805, 1298164590, 122602963,  989043992,\n",
    "  1918895050, 933636724,  1369634190, 1963341198, 1565176104, 1296753019,\n",
    "  1105746212, 1191982839, 1195494369, 29065008,   1635524067, 722221599,\n",
    "  1355059059, 564669751,  1620421856, 1100048288, 1018120624, 1087284781,\n",
    "  1723604070, 1415454125, 737834957,  1854265892, 1605418437, 1697446953,\n",
    "  973791659,  674750707,  1669838606, 320299026,  1130545851, 1725494449,\n",
    "  939321396,  748475270,  554975894,  1651665064, 1695413559, 671470969,\n",
    "  992078781,  1935142196, 1062778243, 1901125066, 1935811166, 1644847216,\n",
    "  744420649,  2068980838, 1988851904, 1263854878, 1979320293, 111370182,\n",
    "  817303588,  478553825,  694867320,  685227566,  345022554,  2095989693,\n",
    "  1770739427, 165413158,  1322704750, 46251975,   710520147,  700507188,\n",
    "  2104251000, 1350123687, 1593227923, 1756802846, 1179873910, 1629210470,\n",
    "  358373501,  807118919,  751426983,  172199468,  174707988,  1951167187,\n",
    "  1328704411, 2129871494, 1242495143, 1793093310, 1721521010, 306195915,\n",
    "  1609230749, 1992815783, 1790818204, 234528824,  551692332,  1930351755,\n",
    "  110996527,  378457918,  638641695,  743517326,  368806918,  1583529078,\n",
    "  1767199029, 182158924,  1114175764, 882553770,  552467890,  1366456705,\n",
    "  934589400,  1574008098, 1798094820, 1548210079, 821697741,  601807702,\n",
    "  332526858,  1693310695, 136360183,  1189114632, 506273277,  397438002,\n",
    "  620771032,  676183860,  1747529440, 909035644,  142389739,  1991534368,\n",
    "  272707803,  1905681287, 1210958911, 596176677,  1380009185, 1153270606,\n",
    "  1150188963, 1067903737, 1020928348, 978324723,  962376754,  1368724127,\n",
    "  1133797255, 1367747748, 1458212849, 537933020,  1295159285, 2104731913,\n",
    "  1647629177, 1691336604, 922114202,  170715530,  1608833393, 62657989,\n",
    "  1140989235, 381784875,  928003604,  449509021,  1057208185, 1239816707,\n",
    "  525522922,  476962140,  102897870,  132620570,  419788154,  2095057491,\n",
    "  1240747817, 1271689397, 973007445,  1380110056, 1021668229, 12064370,\n",
    "  1186917580, 1017163094, 597085928,  2018803520, 1795688603, 1722115921,\n",
    "  2015264326, 506263638,  1002517905, 1229603330, 1376031959, 763839898,\n",
    "  1970623926, 1109937345, 524780807,  1976131071, 905940439,  1313298413,\n",
    "  772929676,  1578848328, 1108240025, 577439381,  1293318580, 1512203375,\n",
    "  371003697,  308046041,  320070446,  1252546340, 568098497,  1341794814,\n",
    "  1922466690, 480833267,  1060838440, 969079660,  1836468543, 2049091118,\n",
    "  2023431210, 383830867,  2112679659, 231203270,  1551220541, 1377927987,\n",
    "  275637462,  2110145570, 1700335604, 738389040,  1688841319, 1506456297,\n",
    "  1243730675, 258043479,  599084776,  41093802,   792486733,  1897397356,\n",
    "  28077829,   1520357900, 361516586,  1119263216, 209458355,  45979201,\n",
    "  363681532,  477245280,  2107748241, 601938891,  244572459,  1689418013,\n",
    "  1141711990, 1485744349, 1181066840, 1950794776, 410494836,  1445347454,\n",
    "  2137242950, 852679640,  1014566730, 1999335993, 1871390758, 1736439305,\n",
    "  231222289,  603972436,  783045542,  370384393,  184356284,  709706295,\n",
    "  1453549767, 591603172,  768512391,  854125182\n",
    "]\n",
    "\n",
    "@cython.boundscheck(False)\n",
    "@cython.wraparound(False)\n",
    "def chunker_cython(const uint8_t[:] data):\n",
    "    cdef uint32_t pattern, mask, c, i, length\n",
    "    pattern = 0\n",
    "    mask = 32767\n",
    "    c = 0\n",
    "    length = data.shape[0]\n",
    "    with nogil:\n",
    "        for i in range(length):\n",
    "            pattern = (pattern >> 1) + GEAR_C[data[i]]\n",
    "            if not pattern & mask:\n",
    "                c += 1\n",
    "    return c"
   ]
  },
  {
   "cell_type": "markdown",
   "metadata": {},
   "source": [
    "## Benchmark Chunking Operations"
   ]
  },
  {
   "cell_type": "code",
   "execution_count": 24,
   "metadata": {},
   "outputs": [
    {
     "name": "stdout",
     "output_type": "stream",
     "text": [
      "52.4 MB with chunker_simple : 6.4 MB/s (total=8.2542s result=1587)\n",
      "52.4 MB with chunker_cython : 1.8 GB/s (total=0.0297s result=1587)\n"
     ]
    }
   ],
   "source": [
    "def benchmark_chunker(func, data):\n",
    "    func_name = func.__name__\n",
    "    num_bytes = len(data)\n",
    "    data_size = humanize.naturalsize(num_bytes)\n",
    "    t = Timer(logger=None)\n",
    "    t.start()\n",
    "    result = func(data)\n",
    "    t.stop()\n",
    "    print(f\"{data_size} with {func_name} : {humanize.naturalsize(num_bytes / t.last)}/s (total={t.last:.4f}s result={result})\")\n",
    "\n",
    "DATA = os.urandom(1024*512*100)\n",
    "benchmark_chunker(chunker_simple, DATA)\n",
    "benchmark_chunker(chunker_cython, DATA)"
   ]
  },
  {
   "cell_type": "markdown",
   "metadata": {},
   "source": [
    "## Parallel Chunking Operations"
   ]
  },
  {
   "cell_type": "code",
   "execution_count": 25,
   "metadata": {},
   "outputs": [
    {
     "name": "stdout",
     "output_type": "stream",
     "text": [
      "1.0 GB with serial_chunker : 1.3 GB/s (total=0.7719s result=[14, 15, 11]...[21, 23, 7])\n",
      "1.0 GB with parallel_chunker : 3.3 GB/s (total=0.3000s result=[14, 15, 11]...[21, 23, 7])\n"
     ]
    }
   ],
   "source": [
    "def benchmark_multi_chunker(func):\n",
    "    func_name = func.__name__\n",
    "    num_bytes = os.path.getsize(DUMMY)    \n",
    "    data_size = humanize.naturalsize(num_bytes)\n",
    "    t = Timer(logger=None)\n",
    "    t.start()\n",
    "    result = func()\n",
    "    t.stop()\n",
    "    print(f\"{data_size} with {func_name} : {humanize.naturalsize(num_bytes / t.last)}/s (total={t.last:.4f}s result={result[:3]}...{result[-3:]})\")\n",
    "\n",
    "def fixed_chunks(chunk_size=1024*512):\n",
    "    with open(DUMMY, 'rb') as f:\n",
    "        data = f.read(chunk_size)\n",
    "        while data:\n",
    "            yield data\n",
    "            data = f.read(chunk_size)\n",
    "            \n",
    "def serial_chunker():\n",
    "    result = []\n",
    "    for chunk in fixed_chunks():\n",
    "        result.append(chunker_cython(chunk))\n",
    "    return result\n",
    "\n",
    "def parallel_chunker():\n",
    "    with ThreadPoolExecutor(max_workers=8) as ex:\n",
    "        jobs = [ex.submit(chunker_cython, chunk) for chunk in fixed_chunks()]\n",
    "    return [job.result() for job in jobs]\n",
    "\n",
    "benchmark_multi_chunker(serial_chunker)\n",
    "benchmark_multi_chunker(parallel_chunker)"
   ]
  },
  {
   "cell_type": "markdown",
   "metadata": {},
   "source": [
    "# Helper functions"
   ]
  },
  {
   "cell_type": "markdown",
   "metadata": {},
   "source": [
    "### ceil_div"
   ]
  },
  {
   "cell_type": "code",
   "execution_count": 26,
   "metadata": {},
   "outputs": [],
   "source": [
    "def ceil_div_py(x, y):\n",
    "    return (x + y - 1) // y"
   ]
  },
  {
   "cell_type": "code",
   "execution_count": 27,
   "metadata": {},
   "outputs": [],
   "source": [
    "%%cython\n",
    "cimport cython\n",
    "from libc.stdint cimport uint32_t\n",
    "cpdef uint32_t ceil_div_cy(uint32_t x, uint32_t y):\n",
    "    return (x + y - 1) // y"
   ]
  },
  {
   "cell_type": "code",
   "execution_count": 28,
   "metadata": {},
   "outputs": [
    {
     "name": "stdout",
     "output_type": "stream",
     "text": [
      "2\n",
      "2\n",
      "121 ns ± 7 ns per loop (mean ± std. dev. of 7 runs, 10000000 loops each)\n",
      "88.2 ns ± 14.5 ns per loop (mean ± std. dev. of 7 runs, 10000000 loops each)\n"
     ]
    }
   ],
   "source": [
    "print(ceil_div_py(10, 5))\n",
    "print(ceil_div_cy(10, 5))\n",
    "%timeit ceil_div_py(10, 5)\n",
    "%timeit ceil_div_cy(10, 5)"
   ]
  },
  {
   "cell_type": "markdown",
   "metadata": {},
   "source": [
    "### logarithm2"
   ]
  },
  {
   "cell_type": "code",
   "execution_count": 29,
   "metadata": {},
   "outputs": [],
   "source": [
    "import math\n",
    "def logarithm2_py(value: int) -> int:\n",
    "    return round(math.log(value, 2))"
   ]
  },
  {
   "cell_type": "code",
   "execution_count": 30,
   "metadata": {},
   "outputs": [],
   "source": [
    "%%cython\n",
    "cimport cython\n",
    "from libc.stdint cimport uint32_t\n",
    "from libc.math cimport log2, lround\n",
    "\n",
    "cpdef uint32_t logarithm2_cy(uint32_t value):\n",
    "    return lround(log2(value))"
   ]
  },
  {
   "cell_type": "code",
   "execution_count": 31,
   "metadata": {},
   "outputs": [
    {
     "name": "stdout",
     "output_type": "stream",
     "text": [
      "15\n",
      "15\n",
      "397 ns ± 80.1 ns per loop (mean ± std. dev. of 7 runs, 1000000 loops each)\n",
      "86.2 ns ± 4.48 ns per loop (mean ± std. dev. of 7 runs, 10000000 loops each)\n"
     ]
    }
   ],
   "source": [
    "print(logarithm2_py(32769))\n",
    "print(logarithm2_cy(32769))\n",
    "%timeit logarithm2_py(32769)\n",
    "%timeit logarithm2_cy(32769)"
   ]
  },
  {
   "cell_type": "markdown",
   "metadata": {},
   "source": [
    "### mask"
   ]
  },
  {
   "cell_type": "code",
   "execution_count": 32,
   "metadata": {},
   "outputs": [],
   "source": [
    "def mask_py(bits):\n",
    "    assert bits >= 1\n",
    "    assert bits <= 31\n",
    "    return 2 ** bits - 1"
   ]
  },
  {
   "cell_type": "code",
   "execution_count": 33,
   "metadata": {},
   "outputs": [],
   "source": [
    "%%cython\n",
    "cimport cython\n",
    "from libc.stdint cimport uint32_t\n",
    "\n",
    "cpdef uint32_t mask_cy(uint32_t bits):\n",
    "    assert bits >= 1\n",
    "    assert bits <= 31\n",
    "    return 2 ** bits - 1"
   ]
  },
  {
   "cell_type": "code",
   "execution_count": 34,
   "metadata": {},
   "outputs": [
    {
     "name": "stdout",
     "output_type": "stream",
     "text": [
      "16777215\n",
      "16777215\n",
      "304 ns ± 18.6 ns per loop (mean ± std. dev. of 7 runs, 1000000 loops each)\n",
      "59.5 ns ± 6.3 ns per loop (mean ± std. dev. of 7 runs, 10000000 loops each)\n"
     ]
    }
   ],
   "source": [
    "print(mask_py(24))\n",
    "print(mask_cy(24))\n",
    "%timeit mask_py(24)\n",
    "%timeit mask_cy(24)"
   ]
  },
  {
   "cell_type": "markdown",
   "metadata": {},
   "source": [
    "### center_size"
   ]
  },
  {
   "cell_type": "code",
   "execution_count": 35,
   "metadata": {},
   "outputs": [],
   "source": [
    "def center_size_py(average: int, minimum: int, source_size: int) -> int:\n",
    "    offset = minimum + ceil_div_py(minimum, 2)\n",
    "    if offset > average:\n",
    "        offset = average\n",
    "    size = average - offset\n",
    "    if size > source_size:\n",
    "        return source_size\n",
    "    else:\n",
    "        return size"
   ]
  },
  {
   "cell_type": "code",
   "execution_count": 36,
   "metadata": {},
   "outputs": [],
   "source": [
    "%%cython\n",
    "cimport cython\n",
    "from libc.stdint cimport uint32_t\n",
    "\n",
    "cdef uint32_t ceil_div_cy(uint32_t x, uint32_t y):\n",
    "    return (x + y - 1) // y\n",
    "\n",
    "cpdef uint32_t center_size_cy(uint32_t average, uint32_t minimum, uint32_t source_size):\n",
    "    cdef uint32_t offset = minimum + ceil_div_cy(minimum, 2)\n",
    "    if offset > average:\n",
    "        offset = average\n",
    "    cdef uint32_t size = average - offset\n",
    "    if size > source_size:\n",
    "        return source_size\n",
    "    return size"
   ]
  },
  {
   "cell_type": "code",
   "execution_count": 37,
   "metadata": {},
   "outputs": [
    {
     "name": "stdout",
     "output_type": "stream",
     "text": [
      "50\n",
      "50\n",
      "50\n",
      "268 ns ± 20.1 ns per loop (mean ± std. dev. of 7 runs, 1000000 loops each)\n",
      "88.6 ns ± 4.87 ns per loop (mean ± std. dev. of 7 runs, 10000000 loops each)\n"
     ]
    }
   ],
   "source": [
    "print(center_size_py(200, 100, 50))\n",
    "print(center_size_cy(200, 100, 50))\n",
    "print(center_size_cy(200, 100, 2000))\n",
    "%timeit center_size_py(200, 100, 50)\n",
    "%timeit center_size_cy(200, 100, 50)"
   ]
  },
  {
   "cell_type": "markdown",
   "metadata": {},
   "source": [
    "# FastCDC Single Offset"
   ]
  },
  {
   "cell_type": "markdown",
   "metadata": {},
   "source": [
    "## Python CDC Offset Calculation"
   ]
  },
  {
   "cell_type": "code",
   "execution_count": 38,
   "metadata": {},
   "outputs": [],
   "source": [
    "def cdc_offset_py(data, mi, av, ma, cs, mask_s, mask_l):\n",
    "    \"\"\"Returns offset to first chunkpoint in data.\"\"\"\n",
    "    pattern = 0\n",
    "    i = mi\n",
    "    size = len(data)\n",
    "    barrier = min(cs, size)  \n",
    "    while i < barrier:\n",
    "        pattern = (pattern >> 1) + GEAR[data[i]]\n",
    "        if not pattern & mask_s:\n",
    "            return i + 1\n",
    "        i += 1\n",
    "    barrier = min(ma, size)\n",
    "    while i < barrier:\n",
    "        pattern = (pattern >> 1) + GEAR[data[i]]\n",
    "        if not pattern & mask_l:\n",
    "            return i + 1\n",
    "        i += 1\n",
    "    return i"
   ]
  },
  {
   "cell_type": "markdown",
   "metadata": {},
   "source": [
    "## Cython CDC Offset Calculation"
   ]
  },
  {
   "cell_type": "code",
   "execution_count": 39,
   "metadata": {},
   "outputs": [],
   "source": [
    "%%cython\n",
    "cimport cython\n",
    "from libc.stdint cimport uint32_t, uint8_t\n",
    "\n",
    "cdef uint32_t[256] GEAR_C = [\n",
    "  1553318008, 574654857,  759734804,  310648967,  1393527547, 1195718329,\n",
    "  694400241,  1154184075, 1319583805, 1298164590, 122602963,  989043992,\n",
    "  1918895050, 933636724,  1369634190, 1963341198, 1565176104, 1296753019,\n",
    "  1105746212, 1191982839, 1195494369, 29065008,   1635524067, 722221599,\n",
    "  1355059059, 564669751,  1620421856, 1100048288, 1018120624, 1087284781,\n",
    "  1723604070, 1415454125, 737834957,  1854265892, 1605418437, 1697446953,\n",
    "  973791659,  674750707,  1669838606, 320299026,  1130545851, 1725494449,\n",
    "  939321396,  748475270,  554975894,  1651665064, 1695413559, 671470969,\n",
    "  992078781,  1935142196, 1062778243, 1901125066, 1935811166, 1644847216,\n",
    "  744420649,  2068980838, 1988851904, 1263854878, 1979320293, 111370182,\n",
    "  817303588,  478553825,  694867320,  685227566,  345022554,  2095989693,\n",
    "  1770739427, 165413158,  1322704750, 46251975,   710520147,  700507188,\n",
    "  2104251000, 1350123687, 1593227923, 1756802846, 1179873910, 1629210470,\n",
    "  358373501,  807118919,  751426983,  172199468,  174707988,  1951167187,\n",
    "  1328704411, 2129871494, 1242495143, 1793093310, 1721521010, 306195915,\n",
    "  1609230749, 1992815783, 1790818204, 234528824,  551692332,  1930351755,\n",
    "  110996527,  378457918,  638641695,  743517326,  368806918,  1583529078,\n",
    "  1767199029, 182158924,  1114175764, 882553770,  552467890,  1366456705,\n",
    "  934589400,  1574008098, 1798094820, 1548210079, 821697741,  601807702,\n",
    "  332526858,  1693310695, 136360183,  1189114632, 506273277,  397438002,\n",
    "  620771032,  676183860,  1747529440, 909035644,  142389739,  1991534368,\n",
    "  272707803,  1905681287, 1210958911, 596176677,  1380009185, 1153270606,\n",
    "  1150188963, 1067903737, 1020928348, 978324723,  962376754,  1368724127,\n",
    "  1133797255, 1367747748, 1458212849, 537933020,  1295159285, 2104731913,\n",
    "  1647629177, 1691336604, 922114202,  170715530,  1608833393, 62657989,\n",
    "  1140989235, 381784875,  928003604,  449509021,  1057208185, 1239816707,\n",
    "  525522922,  476962140,  102897870,  132620570,  419788154,  2095057491,\n",
    "  1240747817, 1271689397, 973007445,  1380110056, 1021668229, 12064370,\n",
    "  1186917580, 1017163094, 597085928,  2018803520, 1795688603, 1722115921,\n",
    "  2015264326, 506263638,  1002517905, 1229603330, 1376031959, 763839898,\n",
    "  1970623926, 1109937345, 524780807,  1976131071, 905940439,  1313298413,\n",
    "  772929676,  1578848328, 1108240025, 577439381,  1293318580, 1512203375,\n",
    "  371003697,  308046041,  320070446,  1252546340, 568098497,  1341794814,\n",
    "  1922466690, 480833267,  1060838440, 969079660,  1836468543, 2049091118,\n",
    "  2023431210, 383830867,  2112679659, 231203270,  1551220541, 1377927987,\n",
    "  275637462,  2110145570, 1700335604, 738389040,  1688841319, 1506456297,\n",
    "  1243730675, 258043479,  599084776,  41093802,   792486733,  1897397356,\n",
    "  28077829,   1520357900, 361516586,  1119263216, 209458355,  45979201,\n",
    "  363681532,  477245280,  2107748241, 601938891,  244572459,  1689418013,\n",
    "  1141711990, 1485744349, 1181066840, 1950794776, 410494836,  1445347454,\n",
    "  2137242950, 852679640,  1014566730, 1999335993, 1871390758, 1736439305,\n",
    "  231222289,  603972436,  783045542,  370384393,  184356284,  709706295,\n",
    "  1453549767, 591603172,  768512391,  854125182\n",
    "]\n",
    "\n",
    "@cython.boundscheck(False)\n",
    "@cython.wraparound(False)\n",
    "cpdef uint32_t cdc_offset_cy(const uint8_t[:] data, const uint32_t mi, const uint32_t av, const uint32_t ma, const uint32_t cs, const uint32_t mask_s, const uint32_t mask_l):\n",
    "    cdef uint32_t pattern, i, size, barrier\n",
    "    pattern = 0\n",
    "    i = mi\n",
    "    size = len(data)\n",
    "    barrier = min(cs, size)  \n",
    "    while i < barrier:\n",
    "        pattern = (pattern >> 1) + GEAR_C[data[i]]\n",
    "        if not pattern & mask_s:\n",
    "            return i + 1\n",
    "        i += 1\n",
    "    barrier = min(ma, size)\n",
    "    while i < barrier:\n",
    "        pattern = (pattern >> 1) + GEAR_C[data[i]]\n",
    "        if not pattern & mask_l:\n",
    "            return i + 1\n",
    "        i += 1\n",
    "    return i"
   ]
  },
  {
   "cell_type": "markdown",
   "metadata": {},
   "source": [
    "## Benchmark CDC Offset Calculation"
   ]
  },
  {
   "cell_type": "code",
   "execution_count": 40,
   "metadata": {},
   "outputs": [
    {
     "name": "stdout",
     "output_type": "stream",
     "text": [
      "16346\n",
      "16346\n",
      "2.7 ms ± 227 µs per loop (mean ± std. dev. of 7 runs, 100 loops each)\n",
      "7.49 µs ± 282 ns per loop (mean ± std. dev. of 7 runs, 100000 loops each)\n"
     ]
    }
   ],
   "source": [
    "av = 16384\n",
    "mi = av // 4\n",
    "ma = av * 8\n",
    "cs = center_size_py(av, mi, ma)\n",
    "bits = logarithm2_py(av)\n",
    "mask_s = mask_py(bits + 1)\n",
    "mask_l = mask_py(bits - 1)\n",
    "data = os.urandom(1000000)\n",
    "print(cdc_offset_py(data, mi, av, ma, cs, mask_s, mask_l))\n",
    "print(cdc_offset_cy(data, mi, av, ma, cs, mask_s, mask_l))\n",
    "%timeit cdc_offset_py(data, mi, av, ma, cs, mask_s, mask_l)\n",
    "%timeit cdc_offset_cy(data, mi, av, ma, cs, mask_s, mask_l)"
   ]
  },
  {
   "cell_type": "code",
   "execution_count": 41,
   "metadata": {},
   "outputs": [],
   "source": [
    "def fastcdc_py(stream, avg_size=16384, read_size=1024*32):\n",
    "    chunk_points = []\n",
    "    av = avg_size\n",
    "    mi = av // 4\n",
    "    ma = av * 8\n",
    "    bits = logarithm2_py(av)\n",
    "    mask_s = mask_py(bits + 1)\n",
    "    mask_l = mask_py(bits - 1)\n",
    "    cs = center_size_py(av, mi, ma)\n",
    "    data = stream.read(read_size)\n",
    "    offset = 0\n",
    "    while data:\n",
    "        if len(data) <= ma:\n",
    "            data += stream.read(read_size)\n",
    "        cp = cdc_offset_cy(data, mi, av, ma, cs, mask_s, mask_l)\n",
    "        chunk_points.append((offset, cp))\n",
    "        offset += cp\n",
    "        data = data[cp:]\n",
    "    return chunk_points"
   ]
  },
  {
   "cell_type": "code",
   "execution_count": 42,
   "metadata": {},
   "outputs": [
    {
     "name": "stdout",
     "output_type": "stream",
     "text": [
      "1.0 GB/s (result: (0, 27829) ... (999994471, 5529))\n"
     ]
    }
   ],
   "source": [
    "import os\n",
    "import io\n",
    "num_bytes = 1000000 * 1000 # 100 MB\n",
    "data = os.urandom(num_bytes) # 100 MB\n",
    "stream = io.BytesIO(data)\n",
    "def benchmark_chunker(func):\n",
    "    func_name = func.__name__\n",
    "    file_size = humanize.naturalsize(num_bytes)\n",
    "    t = Timer(logger=None)\n",
    "    t.start()\n",
    "    result = func(stream)\n",
    "    t.stop()\n",
    "    print(f\"{humanize.naturalsize(num_bytes / t.last)}/s (result: {result[0]} ... {result[-1]})\")\n",
    "benchmark_chunker(fastcdc_py)"
   ]
  },
  {
   "cell_type": "markdown",
   "metadata": {},
   "source": [
    "# Objects"
   ]
  },
  {
   "cell_type": "markdown",
   "metadata": {},
   "source": [
    "## Python Objects"
   ]
  },
  {
   "cell_type": "code",
   "execution_count": 43,
   "metadata": {},
   "outputs": [],
   "source": [
    "from dataclasses import dataclass\n",
    "@dataclass\n",
    "class Chunk:\n",
    "    offset: int\n",
    "    length: int\n",
    "    data: bytes\n",
    "    hash_: str\n",
    "\n",
    "def gen_objects_py():\n",
    "    objs = []\n",
    "    for x in range(1000):\n",
    "        objs.append(Chunk(10,100, b'', \"lkajdsflkajsdf\"))\n",
    "    return objs"
   ]
  },
  {
   "cell_type": "markdown",
   "metadata": {},
   "source": [
    "## Cython Objects"
   ]
  },
  {
   "cell_type": "code",
   "execution_count": 44,
   "metadata": {},
   "outputs": [],
   "source": [
    "%%cython\n",
    "\n",
    "cdef class Chunk:\n",
    "    cdef readonly int offset, length\n",
    "    cdef readonly char* data\n",
    "    cdef readonly str hash_\n",
    "    \n",
    "    def __init__(self, offset, length, data, hash_):\n",
    "        self.offset = offset\n",
    "        self.length = length\n",
    "        self.data = data\n",
    "        self.hash_ = hash_\n",
    "\n",
    "cpdef gen_objects_cy():\n",
    "    objs = []\n",
    "    for x in range(1000):\n",
    "        objs.append(Chunk(10, 100, b'', \"lkajdsflkajsdf\"))\n",
    "    return objs"
   ]
  },
  {
   "cell_type": "markdown",
   "metadata": {},
   "source": [
    "## Benchmark Objects"
   ]
  },
  {
   "cell_type": "code",
   "execution_count": 45,
   "metadata": {},
   "outputs": [
    {
     "name": "stdout",
     "output_type": "stream",
     "text": [
      "138 µs ± 6.24 µs per loop (mean ± std. dev. of 7 runs, 10000 loops each)\n",
      "42.7 µs ± 5.87 µs per loop (mean ± std. dev. of 7 runs, 10000 loops each)\n"
     ]
    }
   ],
   "source": [
    "%timeit gen_objects_py()\n",
    "%timeit gen_objects_cy()"
   ]
  },
  {
   "cell_type": "markdown",
   "metadata": {},
   "source": [
    "# FastCDC Multiple Chunks"
   ]
  },
  {
   "cell_type": "markdown",
   "metadata": {},
   "source": [
    "## Python with while loop"
   ]
  },
  {
   "cell_type": "code",
   "execution_count": 63,
   "metadata": {},
   "outputs": [],
   "source": [
    "def cdc_while_py(data, mi, av, ma, cs, mask_s, mask_l):\n",
    "    \"\"\"\n",
    "    Returns offsets to all chunkpoints in data.\n",
    "    \"\"\"\n",
    "    chunks = []\n",
    "    offset = 0\n",
    "    section = data[offset:offset + ma]\n",
    "    \n",
    "    while True:\n",
    "        found = False\n",
    "        size = len(section)\n",
    "        if size < ma:\n",
    "            section = data[offset:offset + ma]\n",
    "            size = len(section)\n",
    "        if size == 0:\n",
    "            break\n",
    "\n",
    "        i = mi\n",
    "        pattern = 0\n",
    "        if size <= mi:\n",
    "            chunks.append(size)\n",
    "            break\n",
    "        \n",
    "        barrier = min(cs, size)  \n",
    "        while i < barrier:\n",
    "            pattern = (pattern >> 1) + GEAR[section[i]]\n",
    "            if not pattern & mask_s:\n",
    "                offset += i+1\n",
    "                chunks.append(offset)\n",
    "                section = data[offset:offset + ma]\n",
    "                found = True\n",
    "                break\n",
    "            i += 1\n",
    "        if found:\n",
    "            continue\n",
    "        barrier = min(ma, size)\n",
    "        while i < barrier:\n",
    "            pattern = (pattern >> 1) + GEAR[section[i]]\n",
    "            if not pattern & mask_l:\n",
    "                offset += i+1\n",
    "                chunks.append(offset)\n",
    "                section = data[offset:offset + ma]\n",
    "                found = True\n",
    "                break\n",
    "            i += 1\n",
    "        if found:\n",
    "            continue\n",
    "        \n",
    "        offset += i\n",
    "        section = data[offset:offset + ma]\n",
    "    return chunks"
   ]
  },
  {
   "cell_type": "markdown",
   "metadata": {},
   "source": [
    "## Benchmark Multicple Chunks"
   ]
  },
  {
   "cell_type": "code",
   "execution_count": 64,
   "metadata": {},
   "outputs": [
    {
     "name": "stdout",
     "output_type": "stream",
     "text": [
      "[22366, 30116, 32857, 43588, 50717, 65647, 86053, 92136, 104063]\n",
      "19.2 ms ± 1.26 ms per loop (mean ± std. dev. of 7 runs, 100 loops each)\n"
     ]
    }
   ],
   "source": [
    "av = 8192\n",
    "mi = av // 4\n",
    "ma = av * 8\n",
    "cs = center_size_py(av, mi, ma)\n",
    "bits = logarithm2_py(av)\n",
    "mask_s = mask_py(bits + 1)\n",
    "mask_l = mask_py(bits - 1)\n",
    "data = open('../tests/SekienAkashita.jpg', 'rb').read()\n",
    "print(cdc_while_py(data, mi, av, ma, cs, mask_s, mask_l))\n",
    "%timeit cdc_while_py(data, mi, av, ma, cs, mask_s, mask_l)"
   ]
  },
  {
   "cell_type": "code",
   "execution_count": null,
   "metadata": {},
   "outputs": [],
   "source": []
  }
 ],
 "metadata": {
  "kernelspec": {
   "display_name": "fastcdc-py",
   "language": "python",
   "name": "fastcdc-py"
  },
  "language_info": {
   "codemirror_mode": {
    "name": "ipython",
    "version": 3
   },
   "file_extension": ".py",
   "mimetype": "text/x-python",
   "name": "python",
   "nbconvert_exporter": "python",
   "pygments_lexer": "ipython3",
   "version": "3.8.0"
  },
  "toc-autonumbering": true,
  "toc-showcode": false,
  "toc-showmarkdowntxt": false,
  "toc-showtags": false
 },
 "nbformat": 4,
 "nbformat_minor": 4
}